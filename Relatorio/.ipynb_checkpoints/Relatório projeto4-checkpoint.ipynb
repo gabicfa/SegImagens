{
 "cells": [
  {
   "cell_type": "markdown",
   "metadata": {},
   "source": [
    "# Projeto 4 – Segmentação de imagens\n",
    "## SuperComputação - 2018/2\n",
    "### Gabriela Almeida"
   ]
  },
  {
   "cell_type": "markdown",
   "metadata": {},
   "source": [
    "Para o quarto projeto de superComputação aplicou-se os conceitos de GPGPU vistos em aula em um problema real de segmentação de imagens. Os objetivos de aprendizagem trabalhados foram:"
   ]
  },
  {
   "cell_type": "markdown",
   "metadata": {},
   "source": [
    "    1. utilização de ferramentas para processamento de dados em GPU para resolução de um problema complexo.\n",
    "    2. profiling de código GPU usando cudaEvent"
   ]
  },
  {
   "cell_type": "markdown",
   "metadata": {},
   "source": [
    "Esse relatório tem como objetibvo mostrar os resultados de segmentação para um conjunto de imagens simples, mostrar testes co imagens de alta resolução, incluindo medições de tempo e fazer uma comparação com um programa sequencial previamente disponibilizado."
   ]
  },
  {
   "cell_type": "markdown",
   "metadata": {},
   "source": [
    "## Descrição e Implementação do problema"
   ]
  },
  {
   "cell_type": "markdown",
   "metadata": {},
   "source": [
    "Uma segmentação de imagem é sua divisão em regiões conexas (sem interrupções) contendo objetos de interesse ou o fundo da imagem. A segmentação iterativa de imagens é baseada na adição de marcadores em objetos de interesse para diferenciá-los do fundo (que contém todos os outros objetos e plano de fundo da imagem). A figura abaixo exemplifica este tipo de interação."
   ]
  },
  {
   "cell_type": "markdown",
   "metadata": {},
   "source": [
    "![alt text](Figura1.png \"Title\")"
   ]
  },
  {
   "cell_type": "markdown",
   "metadata": {},
   "source": [
    "Um algoritmo simples e muito eficaz para este problema é a IFT (Image Foresting Transform), que representa a imagem usando um grafo e trata a segmentação de imagens como um problema de caminho mínimo entre os vértices (pixels) semente e todos os outros pontos da imagem. Cada pixel (vértice) está conectado com os 4 pixels (vértices) adjacentes. O custo de cada aresta pode ser dado de duas maneiras:"
   ]
  },
  {
   "cell_type": "markdown",
   "metadata": {},
   "source": [
    "    1. Magnitude da diferença entre os valores dos pixels na imagem original;\n",
    "    2. Magnitude da diferença entre os valores dos pixels no imagem de bordas (gradiente morfológico ou laplace);"
   ]
  },
  {
   "cell_type": "markdown",
   "metadata": {},
   "source": [
    "O algoritmo básico para resolver este problema é uma modificação do algoritmo de Dijkstra para a determinação de caminhos mínimos. Cada pixel v pertence a uma semente/objeto com semente si se o caminho de custo mínimo de v até Si possui menor custo que o caminho de custo mínimo até todas outras sementes/objetos Sj , j ̸= i."
   ]
  },
  {
   "cell_type": "markdown",
   "metadata": {},
   "source": [
    "A segmentação de imagens de maneira iterativa necessita de resultados quase instantâneos para que o processo seja agradável para o usuário. Neste contexto usou-se bibliotecas de processamento de grafos em GPU para tentar acelerar esse processo para imagens de alta resolução. Os objetivos são:"
   ]
  },
  {
   "cell_type": "markdown",
   "metadata": {},
   "source": [
    "    1. Implementar o processo completo em um algoritmo sequencial eficiente;\n",
    "    2. Usar ferramentas de GPU para acelerar cada etapa do processo sequencial.\n",
    "    3. Quantificar o tempo que cada etapa do processamento leva e comparar com a implementação sequencial.\n",
    "        • Criação do grafo / cópia de dados\n",
    "        • Algoritmos de caminho mínimo\n",
    "        • Criação da imagem final segmentada."
   ]
  },
  {
   "cell_type": "markdown",
   "metadata": {},
   "source": [
    "### Filtro de bordas"
   ]
  },
  {
   "cell_type": "markdown",
   "metadata": {},
   "source": [
    "Tanto o modelo sequencial quanto o modelo implementado em GPU possuem um etapa de implementação de filtro de bordas usando CUDA C para melhores resultados. A implementação desse filtro é dado da seguinte maneira:"
   ]
  },
  {
   "cell_type": "raw",
   "metadata": {},
   "source": [
    "//kernel da função edge\n",
    "__global__ void edge(unsigned char *in, unsigned char *out, int rowStart, int rowEnd, int colStart, int colEnd){\n",
    "    int i=blockIdx.x * blockDim.x + threadIdx.x;\n",
    "    int j=blockIdx.y * blockDim.y + threadIdx.y;\n",
    "    int di, dj;    \n",
    "    if (i< rowEnd && j< colEnd) {\n",
    "        int min = 256;\n",
    "        int max = 0;\n",
    "        for(di = MAX(rowStart, i - 1); di <= MIN(i + 1, rowEnd - 1); di++) {\n",
    "            for(dj = MAX(colStart, j - 1); dj <= MIN(j + 1, colEnd - 1); dj++) {\n",
    "               if(min>in[di*(colEnd-colStart)+dj]) min = in[di*(colEnd-colStart)+dj];\n",
    "               if(max<in[di*(colEnd-colStart)+dj]) max = in[di*(colEnd-colStart)+dj]; \n",
    "            }\n",
    "        }\n",
    "        out[i*(colEnd-colStart)+j] = max-min;\n",
    "    }\n",
    "}\n",
    "\n",
    "int main(int argc, char **argv) {\n",
    "    imagem *in = read_pgm(path);//leitura da imagem de entrada\n",
    "    imagem *img = new_image(in->rows, in->cols);\n",
    "    \n",
    "    thrust::device_vector<unsigned char> V1_d(in->pixels, in->pixels + in->total_size );\n",
    "    thrust::device_vector<unsigned char> V2_d(img->pixels, img->pixels + img->total_size );\n",
    "\n",
    "    dim3 dimGrid (ceil(img->rows/16), ceil(img->cols/16),1);\n",
    "    dim3 dimBlock(16, 16, 1);\n",
    "    \n",
    "    //aplicação do filtro\n",
    "    edge<<<dimGrid,dimBlock>>>(thrust::raw_pointer_cast(V1_d.data()), thrust::raw_pointer_cast(V2_d.data()), 0, img->rows, 0, img->cols);\n",
    "    \n",
    "    thrust::host_vector<unsigned char> V3_h(V2_d);\n",
    "    for(int i = 0; i != V3_h.size(); i++) {\n",
    "        img->pixels[i] = V3_h[i];\n",
    "    }\n",
    "    \n",
    "    //criação da imagem com filtro\n",
    "    write_pgm(img, \"edge.pgm\");\n",
    "}"
   ]
  },
  {
   "cell_type": "markdown",
   "metadata": {},
   "source": [
    "### Modelo sequencial"
   ]
  },
  {
   "cell_type": "markdown",
   "metadata": {},
   "source": [
    "O modelo sequencial foi implementado da seguinte forma:"
   ]
  },
  {
   "cell_type": "raw",
   "metadata": {},
   "source": [
    "#include <thrust/device_vector.h>\n",
    "#include <thrust/host_vector.h>\n",
    "#include <iostream>\n",
    "#include <queue>\n",
    "#include <vector>\n",
    "#include <assert.h>\n",
    "#include \"imagem.h\"\n",
    "#include <fstream>\n",
    "#include <stdlib.h>\n",
    "#include <iostream>\n",
    "#include <cmath>\n",
    "#include \"imagem.h\"\n",
    "#include <cuda_runtime.h>\n",
    "#include <curand.h>\n",
    "#include <curand_kernel.h>\n",
    "\n",
    "#define MAX(y,x) (y>x?y:x)    // Calcula valor maximo\n",
    "#define MIN(y,x) (y<x?y:x)    // Calcula valor minimo\n",
    "\n",
    "using namespace std;\n",
    "\n",
    "typedef pair<double, int> custo_caminho;\n",
    "typedef pair<double *, int *> result_sssp;\n",
    "\n",
    "struct compare_custo_caminho {\n",
    "    bool operator()(custo_caminho &c1, custo_caminho &c2) {\n",
    "        return c2.first < c1.first;\n",
    "    }\n",
    "};\n",
    "\n",
    "__global__ void edge(unsigned char *in, unsigned char *out, int rowStart, int rowEnd, int colStart, int colEnd){\n",
    "    int i=blockIdx.x * blockDim.x + threadIdx.x;\n",
    "    int j=blockIdx.y * blockDim.y + threadIdx.y;\n",
    "    int di, dj;    \n",
    "    if (i< rowEnd && j< colEnd) {\n",
    "        int min = 256;\n",
    "        int max = 0;\n",
    "        for(di = MAX(rowStart, i - 1); di <= MIN(i + 1, rowEnd - 1); di++) {\n",
    "            for(dj = MAX(colStart, j - 1); dj <= MIN(j + 1, colEnd - 1); dj++) {\n",
    "               if(min>in[di*(colEnd-colStart)+dj]) min = in[di*(colEnd-colStart)+dj];\n",
    "               if(max<in[di*(colEnd-colStart)+dj]) max = in[di*(colEnd-colStart)+dj]; \n",
    "            }\n",
    "        }\n",
    "        out[i*(colEnd-colStart)+j] = max-min;\n",
    "    }\n",
    "}\n",
    "\n",
    "result_sssp SSSP(imagem *img, vector<int> source) { //funcao SSSP aceital multiplas sementes\n",
    "    priority_queue<custo_caminho, vector<custo_caminho>, compare_custo_caminho > Q;\n",
    "    double *custos = new double[img->total_size];\n",
    "    int *predecessor = new int[img->total_size];\n",
    "    bool *analisado = new bool[img->total_size];\n",
    "\n",
    "    result_sssp res(custos, predecessor);\n",
    "    \n",
    "    for (int i = 0; i < img->total_size; i++) {\n",
    "        predecessor[i] =-1;\n",
    "        custos[i] = __DBL_MAX__;\n",
    "        analisado[i] = false;\n",
    "    }\n",
    "\n",
    "    for (int i = 0; i< source.size(); i++){\n",
    "        Q.push(custo_caminho(0.0, source[i]));\n",
    "        predecessor[source[i]] = source[i];\n",
    "        custos[source[i]] = 0.0;\n",
    "    }\n",
    "\n",
    "    while (!Q.empty()) {\n",
    "        custo_caminho cm = Q.top();\n",
    "        Q.pop();\n",
    "\n",
    "        int vertex = cm.second;\n",
    "        if (analisado[vertex]) continue; // já tem custo mínimo calculado\n",
    "        analisado[vertex] = true;\n",
    "        double custo_atual = cm.first;\n",
    "        assert(custo_atual == custos[vertex]);\n",
    "\n",
    "        int vertex_i = vertex / img->cols;\n",
    "        int vertex_j = vertex % img->cols;\n",
    "        \n",
    "        if (vertex_i > 0) {\n",
    "            int acima = vertex - img->cols;\n",
    "            double custo_acima = custo_atual + get_edge(img, vertex, acima);\n",
    "            if (custo_acima < custos[acima]) {\n",
    "                custos[acima] = custo_acima;\n",
    "                Q.push(custo_caminho(custo_acima, acima));\n",
    "                predecessor[acima] = vertex;\n",
    "            }\n",
    "        }\n",
    "\n",
    "        if (vertex_i < img->rows - 1) {\n",
    "            int abaixo = vertex + img->cols;\n",
    "            double custo_abaixo = custo_atual + get_edge(img, vertex, abaixo);\n",
    "            if (custo_abaixo < custos[abaixo]) {\n",
    "                custos[abaixo] = custo_abaixo;\n",
    "                Q.push(custo_caminho(custo_abaixo, abaixo));\n",
    "                predecessor[abaixo] = vertex;\n",
    "            }\n",
    "        }\n",
    "\n",
    "\n",
    "        if (vertex_j < img->cols - 1) {\n",
    "            int direita = vertex + 1;\n",
    "            double custo_direita = custo_atual + get_edge(img, vertex, direita);\n",
    "            if (custo_direita < custos[direita]) {\n",
    "                custos[direita] = custo_direita;\n",
    "                Q.push(custo_caminho(custo_direita, direita));\n",
    "                predecessor[direita] = vertex;\n",
    "            }\n",
    "        }\n",
    "\n",
    "        if (vertex_j > 0) {\n",
    "            int esquerda = vertex - 1;\n",
    "            double custo_esquerda = custo_atual + get_edge(img, vertex, esquerda);\n",
    "            if (custo_esquerda < custos[esquerda]) {\n",
    "                custos[esquerda] = custo_esquerda;\n",
    "                Q.push(custo_caminho(custo_esquerda, esquerda));\n",
    "                predecessor[esquerda] = vertex;\n",
    "            }\n",
    "        }\n",
    "    }\n",
    "    \n",
    "    delete[] analisado;\n",
    "    \n",
    "    return res;\n",
    "}\n",
    "\n",
    "int main(int argc, char **argv) {\n",
    "\n",
    "    if (argc < 3) {\n",
    "        cout << \"Uso:  segmentacao_sequencial entrada.pgm saida.pgm\\n\";\n",
    "        return -1;\n",
    "    }\n",
    "    \n",
    "    //leitura do arquivo de entrada\n",
    "    string path(argv[1]);\n",
    "    string path_output(argv[2]);\n",
    "\n",
    "    imagem *in = read_pgm(path);\n",
    "    imagem *img = new_image(in->rows, in->cols);\n",
    "    \n",
    "    int n_fg, n_bg;\n",
    "    int x, y;\n",
    "    \n",
    "    cin >> n_fg >> n_bg;\n",
    "    \n",
    "    //multiplas sementes de frente\n",
    "    vector<int> seeds_fg;\n",
    "    for (int i =0; i< n_fg; i++){\n",
    "        cin >> x >> y;\n",
    "        int seed_fg = y * img->cols + x;\n",
    "        seeds_fg.push_back(seed_fg);\n",
    "    }\n",
    "    \n",
    "    //multiplas sementes de fundo\n",
    "    vector<int> seeds_bg;\n",
    "    for (int i =0; i< n_bg; i++){\n",
    "        cin >> x >> y;\n",
    "        int seed_bg = y * img->cols + x;\n",
    "        seeds_bg.push_back(seed_bg);\n",
    "    }\n",
    "\n",
    "    thrust::device_vector<unsigned char> V1_d(in->pixels, in->pixels + in->total_size );\n",
    "    thrust::device_vector<unsigned char> V2_d(img->pixels, img->pixels + img->total_size );\n",
    "\n",
    "    dim3 dimGrid (ceil(img->rows/16), ceil(img->cols/16),1);\n",
    "    dim3 dimBlock(16, 16, 1);\n",
    "\n",
    "    edge<<<dimGrid,dimBlock>>>(thrust::raw_pointer_cast(V1_d.data()), thrust::raw_pointer_cast(V2_d.data()), 0, img->rows, 0, img->cols);\n",
    "    \n",
    "    thrust::host_vector<unsigned char> V3_h(V2_d);\n",
    "    for(int i = 0; i != V3_h.size(); i++) {\n",
    "        img->pixels[i] = V3_h[i];\n",
    "    }\n",
    "\n",
    "    write_pgm(img, \"edge.pgm\");\n",
    "\n",
    "    result_sssp fg_final = SSSP(img, seeds_fg);\n",
    "    result_sssp bg_final = SSSP(img, seeds_bg);\n",
    "\n",
    "    imagem *saida = new_image(img->rows, img->cols);\n",
    "    for (int k = 0; k < saida->total_size; k++) {\n",
    "        if (fg_final.first[k] > bg_final.first[k]) {\n",
    "            saida->pixels[k] = 255;\n",
    "        } else {\n",
    "            saida->pixels[k] = 0;\n",
    "        }\n",
    "    }\n",
    "   \n",
    "    write_pgm(saida, path_output);\n",
    "\n",
    "    return 0;\n",
    "}"
   ]
  },
  {
   "cell_type": "markdown",
   "metadata": {},
   "source": [
    "### Modelo implementado em GPU"
   ]
  },
  {
   "cell_type": "markdown",
   "metadata": {},
   "source": [
    "O modelo implementado em GPU tem o formato mostrado abaixo. Nela é usado a biblioteca nvGraph para a busca de caminhos mínimos explicadas anteriomente."
   ]
  },
  {
   "cell_type": "raw",
   "metadata": {},
   "source": [
    "#include <thrust/device_vector.h>\n",
    "#include <thrust/host_vector.h>\n",
    "#include <stdio.h>\n",
    "#include <cuda_runtime.h>\n",
    "#include <nvgraph.h>\n",
    "#include <curand.h>\n",
    "#include <curand_kernel.h>\n",
    "#include <iostream>\n",
    "#include <vector>\n",
    "#include <algorithm>\n",
    "#include \"imagem.h\"\n",
    "\n",
    "#define MAX(y,x) (y>x?y:x)    // Calcula valor maximo\n",
    "#define MIN(y,x) (y<x?y:x)    // Calcula valor minimo\n",
    "\n",
    "using namespace std;\n",
    "\n",
    "void check_status(nvgraphStatus_t status){\n",
    "    if ((int)status != 0)\n",
    "    {\n",
    "        printf(\"ERROR : %d\\n\",status);\n",
    "        exit(0);\n",
    "    }\n",
    "}\n",
    "\n",
    "//funcao kernel para filtro de bordas\n",
    "__global__ void edge(unsigned char *in, unsigned char *out, int rowStart, int rowEnd, int colStart, int colEnd){\n",
    "    int i=blockIdx.x * blockDim.x + threadIdx.x;\n",
    "    int j=blockIdx.y * blockDim.y + threadIdx.y;\n",
    "    int di, dj;    \n",
    "    if (i< rowEnd && j< colEnd) {\n",
    "        int min = 256;\n",
    "        int max = 0;\n",
    "        for(di = MAX(rowStart, i - 1); di <= MIN(i + 1, rowEnd - 1); di++) {\n",
    "            for(dj = MAX(colStart, j - 1); dj <= MIN(j + 1, colEnd - 1); dj++) {\n",
    "               if(min>in[di*(colEnd-colStart)+dj]) min = in[di*(colEnd-colStart)+dj];\n",
    "               if(max<in[di*(colEnd-colStart)+dj]) max = in[di*(colEnd-colStart)+dj]; \n",
    "            }\n",
    "        }\n",
    "        out[i*(colEnd-colStart)+j] = max-min;\n",
    "    }\n",
    "}\n",
    "\n",
    "//struct com vetores para aplicação do nvGraph\n",
    "struct info{\n",
    "    size_t n;\n",
    "    size_t nnz;\n",
    "    float * weights_h;\n",
    "    int * destination_offsets_h;\n",
    "    int * source_indices_h;\n",
    "};\n",
    "\n",
    "//funcao para construir o struct a cima com as informações da imagem de entrada\n",
    "info imgInfo(imagem *in, vector<int>& seeds_fg, vector<int>& seeds_bg){\n",
    "    \n",
    "    int n_seeds = seeds_fg.size() + seeds_bg.size();\n",
    "\n",
    "    vector<int> src_indices;\n",
    "    vector<float> weights;\n",
    "    vector<int> dest_offsets={0};\n",
    "\n",
    "    info inf = {};\n",
    "\n",
    "    inf.n = in->total_size + 2;\n",
    "    inf.nnz = (2*((in->cols-1)*in->rows+(in->rows-1)*in->cols))+n_seeds;\n",
    "    int offset_count = 0;\n",
    "\n",
    "    for (int v = 0; v < in->total_size; v++) {\n",
    "\n",
    "        int v_i = v / in->cols;\n",
    "        int v_j = v % in->cols;\n",
    "\n",
    "        if (find(begin(seeds_fg), end(seeds_fg), v) != end(seeds_fg)) {\n",
    "            src_indices.push_back(in->total_size);\n",
    "            weights.push_back(0.0);\n",
    "            offset_count++;\n",
    "        }\n",
    "\n",
    "        if (find(begin(seeds_bg), end(seeds_bg), v) != end(seeds_bg)) {\n",
    "            src_indices.push_back(in->total_size+1);\n",
    "            weights.push_back(0.0);\n",
    "            offset_count++;\n",
    "        }\n",
    "\n",
    "        if (v_i > 0) {\n",
    "            int acima = v - in->cols;\n",
    "            src_indices.push_back(acima);\n",
    "            weights.push_back(get_edge(in, v, acima));\n",
    "            offset_count++;\n",
    "        }\n",
    "\n",
    "        if (v_i < in->rows - 1) {\n",
    "            int abaixo = v + in->cols;\n",
    "            src_indices.push_back(abaixo);\n",
    "            weights.push_back(get_edge(in, v, abaixo));\n",
    "            offset_count++;\n",
    "        }\n",
    "\n",
    "        if(v_j < in->cols - 1){\n",
    "            int direita = v + 1;\n",
    "            src_indices.push_back(direita);\n",
    "            weights.push_back(get_edge(in, v, direita));\n",
    "            offset_count++;\n",
    "        }\n",
    "\n",
    "        if (v_j > 0) {\n",
    "            int esquerda = v - 1;\n",
    "            src_indices.push_back(esquerda);\n",
    "            weights.push_back(get_edge(in, v, esquerda));\n",
    "            offset_count++;\n",
    "        }\n",
    "        \n",
    "        dest_offsets.push_back(offset_count);\n",
    "    }\n",
    "    \n",
    "    inf.source_indices_h = (int*) malloc(src_indices.size()*sizeof(int));\n",
    "    for (int i = 0; i < src_indices.size(); i++){\n",
    "        inf.source_indices_h[i] = src_indices[i];\n",
    "    }\n",
    "\n",
    "    inf.weights_h = (float*)malloc(weights.size()*sizeof(float));\n",
    "    for (int i = 0; i < weights.size(); i++){\n",
    "        inf.weights_h[i] = weights[i];\n",
    "    }\n",
    "\n",
    "    inf.destination_offsets_h = (int*) malloc(dest_offsets.size()*sizeof(int));\n",
    "    for (int i = 0; i < dest_offsets.size(); i++){\n",
    "        inf.destination_offsets_h[i] = dest_offsets[i];\n",
    "    }\n",
    "\n",
    "    return inf;\n",
    "}\n",
    "\n",
    "//funcao da nvgraph para calcular os caminhos minimos a partir das informacoes da imagem\n",
    "int GPUSSSP(float *weights_h, int *destination_offsets_h, int *source_indices_h, const size_t n, const size_t nnz, int source_seed, float *sssp_h) {\n",
    "    const size_t vertex_numsets = 2, edge_numsets = 1;\n",
    "    void** vertex_dim;\n",
    "\n",
    "    nvgraphStatus_t status;\n",
    "    nvgraphHandle_t handle;\n",
    "    nvgraphGraphDescr_t graph;\n",
    "    nvgraphCSCTopology32I_t CSC_input;\n",
    "    cudaDataType_t edge_dimT = CUDA_R_32F;\n",
    "    cudaDataType_t* vertex_dimT;\n",
    "\n",
    "    vertex_dim  = (void**)malloc(vertex_numsets*sizeof(void*));\n",
    "    vertex_dimT = (cudaDataType_t*)malloc(vertex_numsets*sizeof(cudaDataType_t));\n",
    "    CSC_input = (nvgraphCSCTopology32I_t) malloc(sizeof(struct nvgraphCSCTopology32I_st));\n",
    "    vertex_dim[0]= (void*)sssp_h;\n",
    "    vertex_dimT[0] = CUDA_R_32F;\n",
    "    vertex_dimT[1] = CUDA_R_32F;\n",
    "\n",
    "    check_status(nvgraphCreate(&handle));\n",
    "    check_status(nvgraphCreateGraphDescr (handle, &graph));\n",
    "    \n",
    "    CSC_input->nvertices = n;\n",
    "    CSC_input->nedges = nnz;\n",
    "    CSC_input->destination_offsets = destination_offsets_h;\n",
    "    CSC_input->source_indices = source_indices_h;\n",
    "    \n",
    "    check_status(nvgraphSetGraphStructure(handle, graph, (void*)CSC_input, NVGRAPH_CSC_32));\n",
    "    check_status(nvgraphAllocateVertexData(handle, graph, vertex_numsets, vertex_dimT));\n",
    "    check_status(nvgraphAllocateEdgeData  (handle, graph, edge_numsets, &edge_dimT));\n",
    "    check_status(nvgraphSetEdgeData(handle, graph, (void*)weights_h, 0));\n",
    "    \n",
    "    int source_vert = source_seed;\n",
    "    check_status(nvgraphSssp(handle, graph, 0,  &source_vert, 0));//retorna o sssp de todos os vertices ao source seed\n",
    "    check_status(nvgraphGetVertexData(handle, graph, (void*)sssp_h, 0));\n",
    "\n",
    "    free(vertex_dim);\n",
    "    free(vertex_dimT);\n",
    "    free(CSC_input);\n",
    "    \n",
    "    check_status(nvgraphDestroyGraphDescr (handle, graph));\n",
    "    check_status(nvgraphDestroy (handle));\n",
    "    \n",
    "    return 0;\n",
    "}\n",
    "\n",
    "int main(int argc, char **argv) {\n",
    "    if (argc < 3) {\n",
    "        std::cout << \"Uso: segmentacao_sequencial entrada.pgm saida.pgm\\n\";\n",
    "        return -1;\n",
    "    }\n",
    "    \n",
    "    //leitura do arquivo de entrada\n",
    "    std::string path(argv[1]);\n",
    "    std::string path_output(argv[2]);\n",
    "\n",
    "    imagem *in = read_pgm(path);\n",
    "    imagem *img = new_image(in->rows, in->cols);\n",
    "\n",
    "    int n_fg, n_bg;\n",
    "    int x, y;\n",
    "    \n",
    "    cin >> n_fg >> n_bg;\n",
    "    \n",
    "    //multiplas sementes de frente\n",
    "    vector<int> seeds_fg;\n",
    "    for (int i =0; i< n_fg; i++){\n",
    "        cin >> x >> y;\n",
    "        int seed_fg = y * img->cols + x;\n",
    "        seeds_fg.push_back(seed_fg);\n",
    "    }\n",
    "    \n",
    "    //multiplas sementes de fundo\n",
    "    vector<int> seeds_bg;\n",
    "    for (int i =0; i< n_bg; i++){\n",
    "        cin >> x >> y;\n",
    "        int seed_bg = y * img->cols + x;\n",
    "        seeds_bg.push_back(seed_bg);\n",
    "    }\n",
    "\n",
    "    thrust::device_vector<unsigned char> V1_d(in->pixels, in->pixels + in->total_size );\n",
    "    thrust::device_vector<unsigned char> V2_d(img->pixels, img->pixels + img->total_size );\n",
    "\n",
    "    dim3 dimGrid (ceil(img->rows/16), ceil(img->cols/16),1);\n",
    "    dim3 dimBlock(16, 16, 1);\n",
    "\n",
    "    //aplicacao do filtro de borda\n",
    "    edge<<<dimGrid,dimBlock>>>(thrust::raw_pointer_cast(V1_d.data()), thrust::raw_pointer_cast(V2_d.data()), 0, img->rows, 0, img->cols);\n",
    "    \n",
    "\n",
    "    thrust::host_vector<unsigned char> V3_h(V2_d);\n",
    "    for(int i = 0; i != V3_h.size(); i++) {\n",
    "        img->pixels[i] = V3_h[i];\n",
    "    }\n",
    "\n",
    "    write_pgm(img, \"edge.pgm\");\n",
    "\n",
    "    info inf = imgInfo(img, seeds_fg, seeds_bg);\n",
    "    \n",
    "    float * sssp_fg = (float*)malloc(inf.n*sizeof(float));\n",
    "    GPUSSSP(inf.weights_h, inf.destination_offsets_h, inf.source_indices_h, inf.n, inf.nnz, img->total_size, sssp_fg);\n",
    "\n",
    "    float * sssp_bg = (float*)malloc(inf.n*sizeof(float));\n",
    "    GPUSSSP(inf.weights_h, inf.destination_offsets_h, inf.source_indices_h, inf.n, inf.nnz, img->total_size+1, sssp_bg);\n",
    "    \n",
    "    //comparacao de valores entre pixels para sementes\n",
    "    imagem *saida = new_image(img->rows, img->cols);\n",
    "    for (int k = 0; k < saida->total_size; k++) {\n",
    "        if (sssp_fg[k] > sssp_bg[k]) {\n",
    "            saida->pixels[k] = 0;\n",
    "        } else {\n",
    "            saida->pixels[k] = 255;\n",
    "        }\n",
    "    }\n",
    "\n",
    "    write_pgm(saida, path_output);\n",
    "\n",
    "    return 0;\n",
    "}"
   ]
  },
  {
   "cell_type": "markdown",
   "metadata": {},
   "source": [
    "## Arquivo de entrada"
   ]
  },
  {
   "cell_type": "markdown",
   "metadata": {},
   "source": [
    "O formato do arquivo de entrada, tanto para o modelo sequencial quanto para o modelo implementado em GPU tem o seguinte formato:"
   ]
  },
  {
   "cell_type": "markdown",
   "metadata": {},
   "source": [
    "    n_sementes_frente n_sementes_fundo\n",
    "    x_0_semente_frente y_0_semente_frente\n",
    "    x_1_semente_frente y_1_semente_frente\n",
    "    .\n",
    "    .\n",
    "    .\n",
    "    x_n-1_semente_frente y_n-1_semente_frente\n",
    "    x_0_semente_fundo y_0_semente_fundo\n",
    "    x_1_semente_fundo y_1_semente_fundo\n",
    "    .\n",
    "    .\n",
    "    .\n",
    "    x_n-1_semente_fundo y_n-1_semente_fundo"
   ]
  },
  {
   "cell_type": "markdown",
   "metadata": {},
   "source": [
    "## Resultados segmentação"
   ]
  },
  {
   "cell_type": "markdown",
   "metadata": {},
   "source": [
    "Para poder ver os resultados do programa é preciso compilá-lo primeiro. Para isso rode o seguinte comando no terminal:"
   ]
  },
  {
   "cell_type": "markdown",
   "metadata": {},
   "source": [
    "    make"
   ]
  },
  {
   "cell_type": "markdown",
   "metadata": {},
   "source": [
    "Isso fará com que dois executáveis sejam gerados, o ./seq e o ./gpu. Para poder ver os resultados de ambos o formato do comando do terminal é o seguinte:"
   ]
  },
  {
   "cell_type": "markdown",
   "metadata": {},
   "source": [
    "    executável imagem_entrada.pgm imagem_saida.pgm < arquivo_de_entrada.txt"
   ]
  },
  {
   "cell_type": "markdown",
   "metadata": {},
   "source": [
    "Esses são alguns resultados gerados pelo programa implementado em gpu:"
   ]
  },
  {
   "cell_type": "markdown",
   "metadata": {},
   "source": [
    "![alt text](resultado_teste.png \"Title\")"
   ]
  },
  {
   "cell_type": "markdown",
   "metadata": {},
   "source": [
    "![alt text](resultado_ski.png \"Title\")"
   ]
  },
  {
   "cell_type": "markdown",
   "metadata": {},
   "source": [
    "![alt text](resultado_beijaflor.png \"Title\")"
   ]
  },
  {
   "cell_type": "markdown",
   "metadata": {},
   "source": [
    "![alt text](resultado_jump.png \"Title\")"
   ]
  },
  {
   "cell_type": "markdown",
   "metadata": {},
   "source": [
    "## Análise de desempenho"
   ]
  },
  {
   "cell_type": "markdown",
   "metadata": {},
   "source": [
    "Com dito anteriormente, um dos objetivos desse projeto é coparar os desempenhos entre o modelo sequencial e a implementação em GPU. Para fazer a análise de desempenho, usou-se uma máquina na aws. O tipo de instância usada nela é a g3s.xlarge cuja especificações são as seguintes:"
   ]
  },
  {
   "cell_type": "markdown",
   "metadata": {},
   "source": [
    "![alt text](maquina.png \"Title\")"
   ]
  },
  {
   "cell_type": "markdown",
   "metadata": {},
   "source": [
    "E as especificações do sistema operacional dessa instância é a seguinte:"
   ]
  },
  {
   "cell_type": "markdown",
   "metadata": {},
   "source": [
    "    Distributor ID:\tUbuntu\n",
    "    Description:\tUbuntu 16.04.1 LTS\n",
    "    Release:\t16.04"
   ]
  },
  {
   "cell_type": "markdown",
   "metadata": {},
   "source": [
    "Para obter os tempos de simulação é preciso executar o seguinte comando após ter compilado os arquivos com o comando \"make\":"
   ]
  },
  {
   "cell_type": "markdown",
   "metadata": {},
   "source": [
    "    python run.py"
   ]
  },
  {
   "cell_type": "markdown",
   "metadata": {},
   "source": [
    "Esse arquivo faz com que os executáveis ./seq e ./gpu sejam executados com 5 imagens diferentes e por fim escrever um arquivo de saída analysis.txt com os valores de tempo de cada imagem, para cada executável, em ordem. Os tempos analisados para cada executável é o tempo gasto para mo cálculo dos caminhos mínimos, o tempo gasto para a montagem da imagem segmentada e o tempo total do programa. Para o executável ./gpu também é calculado a montagem do grafo juntamente com a montagem da imagem com o filtro de borda. "
   ]
  },
  {
   "cell_type": "code",
   "execution_count": 2,
   "metadata": {},
   "outputs": [],
   "source": [
    "tamanhos=[153120,250000,281400,1.6665e+07]\n",
    "montagem_grafo_gpu=[113.375,138.617,174.276,9696.94]\n",
    "caminhos_minimos_gpu=[758.126,872.705,816.677,412681]\n",
    "montagem_imagemSeg_gpu=[0.500128,0.798496,1.02915,56.5993]\n",
    "tempo_total_gpu=[892.034,1045.34,1028.87,424719]\n",
    "caminhos_minimos_seq=[374.701,584.743,766.173,49791.5]\n",
    "montagem_imagemSeg_seq=[0.511456,0.85504,0.997248,49791.5]\n",
    "tempo_total_seq=[416.886,646.78,835.773,54037.3]"
   ]
  },
  {
   "cell_type": "markdown",
   "metadata": {},
   "source": [
    "Com esses vetores é possível fazer uma análise visual do desempenho. A primeira análise feita é a influencia do tamanho da imagem nas variáveis calculadas na implementação em GPU: "
   ]
  },
  {
   "cell_type": "code",
   "execution_count": 3,
   "metadata": {},
   "outputs": [
    {
     "data": {
      "image/png": "[encoded data removed]",
      "text/plain": [
       "<Figure size 432x288 with 1 Axes>"
      ]
     },
     "metadata": {},
     "output_type": "display_data"
    }
   ],
   "source": [
    "import matplotlib.pyplot as plt\n",
    "montagem_grafo, = plt.plot(tamanhos, montagem_grafo_gpu, 'ro-', label='montagem_grafo')\n",
    "caminhos_minimos, = plt.plot(tamanhos, caminhos_minimos_gpu, 'bo-', label='caminhos_minimos')\n",
    "montagem_imagemSeg, = plt.plot(tamanhos, montagem_imagemSeg_gpu, 'co-', label= 'montagem_imagemSeg')\n",
    "tempo_total, = plt.plot(tamanhos, tempo_total_gpu, 'go-', label= 'tempo_total')\n",
    "plt.xlabel('Quantidade de pixels na imagem')\n",
    "plt.ylabel('Variaveis analisadas GPU')\n",
    "plt.title(\"Quantidade de pixels na imagem x Variaveis analisadas GPU\")\n",
    "plt.legend(handles=[montagem_grafo, caminhos_minimos, montagem_imagemSeg, tempo_total])\n",
    "plt.show()"
   ]
  },
  {
   "cell_type": "markdown",
   "metadata": {},
   "source": [
    "Como a ultima imagem era muito maior que as primeiras 3, resolveu-se tirá-la da análise para melhor compreensão"
   ]
  },
  {
   "cell_type": "code",
   "execution_count": 20,
   "metadata": {},
   "outputs": [
    {
     "data": {
      "image/png": "[encoded data removed]",
      "text/plain": [
       "<Figure size 432x288 with 1 Axes>"
      ]
     },
     "metadata": {},
     "output_type": "display_data"
    }
   ],
   "source": [
    "tamanhos=[153120,250000,281400]\n",
    "montagem_grafo_gpu=[113.375,138.617,174.276]\n",
    "caminhos_minimos_gpu=[758.126,872.705,816.677]\n",
    "montagem_imagemSeg_gpu=[0.500128,0.798496,1.02915]\n",
    "tempo_total_gpu=[892.034,1045.34,1028.87]\n",
    "caminhos_minimos_seq=[374.701,584.743,766.173]\n",
    "montagem_imagemSeg_seq=[0.511456,0.85504,0.997248]\n",
    "tempo_total_seq=[416.886,646.78,835.773]\n",
    "montagem_grafo, = plt.plot(tamanhos, montagem_grafo_gpu, 'ro-', label='montagem_grafo')\n",
    "caminhos_minimos, = plt.plot(tamanhos, caminhos_minimos_gpu, 'bo-', label='caminhos_minimos')\n",
    "montagem_imagemSeg, = plt.plot(tamanhos, montagem_imagemSeg_gpu, 'co-', label= 'montagem_imagemSeg')\n",
    "tempo_total, = plt.plot(tamanhos, tempo_total_gpu, 'go-', label= 'tempo_total')\n",
    "plt.xlabel('Quantidade de pixels na imagem')\n",
    "plt.ylabel('Variaveis analisadas GPU')\n",
    "plt.title(\"Quantidade de pixels na imagem x Variaveis analisadas GPU\")\n",
    "plt.legend(handles=[montagem_grafo, caminhos_minimos, montagem_imagemSeg, tempo_total])\n",
    "plt.show()"
   ]
  },
  {
   "cell_type": "markdown",
   "metadata": {},
   "source": [
    "Comparando os fatores analisados entre o sequencial e a implementacao em GPU tem-se os seguintes gráficos:"
   ]
  },
  {
   "cell_type": "code",
   "execution_count": 21,
   "metadata": {},
   "outputs": [
    {
     "data": {
      "image/png": "[encoded data removed]",
      "text/plain": [
       "<Figure size 432x288 with 1 Axes>"
      ]
     },
     "metadata": {},
     "output_type": "display_data"
    }
   ],
   "source": [
    "caminhos_minimosGPU, = plt.plot(tamanhos, caminhos_minimos_gpu, 'ro-', label='caminhos_minimos_gpu')\n",
    "caminhos_minimosSEQ, = plt.plot(tamanhos, caminhos_minimos_seq, 'bo-', label='caminhos_minimos_seq')\n",
    "plt.xlabel('Quantidade de pixels na imagem')\n",
    "plt.ylabel('Tempo para cálculo dos caminhos mínimos')\n",
    "plt.title(\"Quantidade de pixels na imagem x Tempo para cálculo dos caminhos mínimos\")\n",
    "plt.legend(handles=[caminhos_minimosGPU, caminhos_minimosSEQ])\n",
    "plt.show()"
   ]
  },
  {
   "cell_type": "code",
   "execution_count": 15,
   "metadata": {},
   "outputs": [
    {
     "data": {
      "image/png": "[encoded data removed]",
      "text/plain": [
       "<Figure size 432x288 with 1 Axes>"
      ]
     },
     "metadata": {},
     "output_type": "display_data"
    }
   ],
   "source": [
    "montagem_imagemSegGPU, = plt.plot(tamanhos, montagem_imagemSeg_gpu, 'ro-', label='montagem_imagemSeg_gpu')\n",
    "montagem_imagemSegSEQ, = plt.plot(tamanhos, montagem_imagemSeg_seq, 'bo-', label='montagem_imagemSeg_seq')\n",
    "plt.xlabel('Quantidade de pixels na imagem')\n",
    "plt.ylabel('Tempo para montagem da imagem segementada')\n",
    "plt.title(\"Quantidade de pixels na imagem x Tempo para montagem da imagem segementada\")\n",
    "plt.legend(handles=[montagem_imagemSegGPU, montagem_imagemSegSEQ])\n",
    "plt.show()"
   ]
  },
  {
   "cell_type": "code",
   "execution_count": 16,
   "metadata": {},
   "outputs": [
    {
     "data": {
      "image/png": "[encoded data removed]",
      "text/plain": [
       "<Figure size 432x288 with 1 Axes>"
      ]
     },
     "metadata": {},
     "output_type": "display_data"
    }
   ],
   "source": [
    "tempo_totalGPU, = plt.plot(tamanhos, tempo_total_gpu, 'ro-', label='tempo_total_gpu')\n",
    "tempo_totalSEQ, = plt.plot(tamanhos, tempo_total_seq, 'bo-', label='tempo_total_seq')\n",
    "plt.xlabel('Quantidade de pixels na imagem')\n",
    "plt.ylabel('Tempo total do programa')\n",
    "plt.title(\"Quantidade de pixels na imagem x Tempo total do programa\")\n",
    "plt.legend(handles=[tempo_totalGPU, tempo_totalSEQ])\n",
    "plt.show()"
   ]
  },
  {
   "cell_type": "code",
   "execution_count": 19,
   "metadata": {},
   "outputs": [
    {
     "name": "stdout",
     "output_type": "stream",
     "text": [
      "Média de ganho tempo para calcular os caminhos minimos do sequencial para o em gpu= 1.5272196239498563\n",
      "Média de ganho tempo para montar a imagem segmentada do sequencial para o em gpu= 0.9812370880811981\n",
      "Média de ganho tempo total do sequencial para o em gpu= 1.6623390464583006\n"
     ]
    }
   ],
   "source": [
    "gpu_seq_caminhos_minimos_media=0\n",
    "gpu_seq_montagem_imagemSeg=0\n",
    "gpu_seq_tempo_total=0\n",
    "count=0\n",
    "\n",
    "for j in range (0, len(tamanhos)):\n",
    "    for i in range(0, len(tamanhos)):\n",
    "        gpu_seq_caminhos_minimos_media = gpu_seq_caminhos_minimos_media + (caminhos_minimos_gpu[i]/caminhos_minimos_seq[i])\n",
    "        gpu_seq_montagem_imagemSeg = gpu_seq_montagem_imagemSeg + (montagem_imagemSeg_gpu[i]/montagem_imagemSeg_seq[i])\n",
    "        gpu_seq_tempo_total = gpu_seq_tempo_total + (tempo_total_gpu[i]/tempo_total_seq[i])\n",
    "        count+=1\n",
    "    \n",
    "print(\"Média de ganho tempo para calcular os caminhos minimos do sequencial para o em gpu= \" + str(gpu_seq_caminhos_minimos_media/count))\n",
    "print(\"Média de ganho tempo para montar a imagem segmentada do sequencial para o em gpu= \" + str(gpu_seq_montagem_imagemSeg/count))\n",
    "print(\"Média de ganho tempo total do sequencial para o em gpu= \" + str(gpu_seq_tempo_total/count))\n"
   ]
  },
  {
   "cell_type": "markdown",
   "metadata": {},
   "source": [
    "Com as análises acima, percebe-se que, diferente do que se esperava,  as medidas de tempo do modelo sequencial foram mais rápidas do que o modelo implementado em GPU, tirando a montagem da imagem segmentada que foi praticamente de 1 para 1. "
   ]
  }
 ],
 "metadata": {
  "kernelspec": {
   "display_name": "Python 3",
   "language": "python",
   "name": "python3"
  },
  "language_info": {
   "codemirror_mode": {
    "name": "ipython",
    "version": 3
   },
   "file_extension": ".py",
   "mimetype": "text/x-python",
   "name": "python",
   "nbconvert_exporter": "python",
   "pygments_lexer": "ipython3",
   "version": "3.6.5"
  }
 },
 "nbformat": 4,
 "nbformat_minor": 2
}
